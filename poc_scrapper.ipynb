{
 "cells": [
  {
   "cell_type": "code",
   "execution_count": null,
   "metadata": {},
   "outputs": [],
   "source": [
    "# import dependencies\n",
    "import requests\n",
    "from bs4 import BeautifulSoup\n",
    "import pandas as pd\n",
    "from pathlib import Path\n",
    "import multiprocessing\n",
    "from multiprocessing.pool import ThreadPool as Pool\n",
    "from tqdm import tqdm"
   ]
  },
  {
   "cell_type": "code",
   "execution_count": null,
   "metadata": {},
   "outputs": [],
   "source": [
    "labels = [\n",
    "    'ID Code',\n",
    "    'Course Title',\n",
    "    'Credits (CFU / ECTS)',\n",
    "    'Name',\n",
    "    'Track',\n",
    "    'Semester',\n",
    "]\n",
    "\n",
    "renamed_labels = {\n",
    "    'Name' : 'Master',\n",
    "    'Credits (CFU / ECTS)' : 'Credits'\n",
    "}"
   ]
  },
  {
   "cell_type": "code",
   "execution_count": null,
   "metadata": {},
   "outputs": [],
   "source": [
    "def getURLContent(URL:str):\n",
    "    request = requests.get(URL, stream=True)\n",
    "    return request.content\n",
    "\n",
    "def getContentEIC(EIC):\n",
    "    return ' '.join(EIC.get_text().split())\n",
    "\n",
    "def getRelevantInformation(URL:str):\n",
    "\n",
    "    soup = BeautifulSoup(getURLContent(URL), 'html.parser')\n",
    "\n",
    "    mainSection = soup.find_all('td', class_=\"CenterBar\")[0]\n",
    "\n",
    "    InfoBoxes = mainSection.find_all('table', class_=\"BoxInfoCard\")\n",
    "\n",
    "    data = {}\n",
    "\n",
    "    for infoBox in InfoBoxes:\n",
    "        labelEIC = infoBox.find_all('td', class_=\"ElementInfoCard1\")\n",
    "        valueEIC = infoBox.find_all('td', class_=\"ElementInfoCard2\")\n",
    "\n",
    "        for i in range(len(labelEIC)):\n",
    "            label = getContentEIC(labelEIC[i])\n",
    "            value = getContentEIC(valueEIC[i])\n",
    "            if label == 'Credits (CFU / ECTS)':\n",
    "                data[label] = float(value)\n",
    "            else:\n",
    "                data[label] = str(value)\n",
    "\n",
    "    relevantData = {label:data[label] for label in labels}\n",
    "    relevantData['URL'] = URL\n",
    "\n",
    "    return relevantData\n",
    "\n",
    "def scrapLinks(URLs):\n",
    "\n",
    "    df = pd.DataFrame(columns=labels)\n",
    "\n",
    "    pool = Pool(multiprocessing.cpu_count()*2)\n",
    "    \n",
    "    for relevantInformation in tqdm(pool.imap_unordered(getRelevantInformation, URLs), total = len(URLs), colour='green'):\n",
    "        df = pd.concat([pd.DataFrame(relevantInformation, index=[0]), df.loc[:]], ignore_index=True)\n",
    "\n",
    "    return df"
   ]
  },
  {
   "cell_type": "code",
   "execution_count": null,
   "metadata": {},
   "outputs": [],
   "source": [
    "# opening the file in read mode\n",
    "linkFile = open(Path('sandbox')/'links.txt', 'r')\n",
    "\n",
    "# reading the file\n",
    "data = linkFile.read()\n",
    "linkFile.close()\n",
    "# replacing end splitting the text \n",
    "# when newline ('\\n') is seen.\n",
    "URLs = data.split(\"\\n\")"
   ]
  },
  {
   "cell_type": "code",
   "execution_count": null,
   "metadata": {},
   "outputs": [],
   "source": [
    "df = scrapLinks(URLs)\n",
    "df.describe()"
   ]
  },
  {
   "cell_type": "code",
   "execution_count": null,
   "metadata": {},
   "outputs": [],
   "source": [
    "df.rename(columns=renamed_labels, inplace=True)\n",
    "\n",
    "df.head(4)"
   ]
  },
  {
   "cell_type": "code",
   "execution_count": null,
   "metadata": {},
   "outputs": [],
   "source": [
    "df[df.duplicated(subset=['ID Code'], keep=False)].sort_values(by=['ID Code'])"
   ]
  },
  {
   "cell_type": "code",
   "execution_count": null,
   "metadata": {},
   "outputs": [],
   "source": [
    "df_nodup = df.drop_duplicates(subset=['ID Code'], keep='first')\n",
    "df_nodup.head(4)"
   ]
  },
  {
   "cell_type": "code",
   "execution_count": null,
   "metadata": {},
   "outputs": [],
   "source": [
    "df_nodup['Master'] = df_nodup['Master'].apply(lambda masterName: masterName.split(' - ')[-1])\n",
    "df_nodup.head(4)"
   ]
  },
  {
   "cell_type": "code",
   "execution_count": null,
   "metadata": {},
   "outputs": [],
   "source": [
    "sort_order = ['Semester', 'Master', 'Track', 'Credits']\n",
    "sort_way = [True] * len(sort_order)\n",
    "sort_way[sort_order.index('Semester')] = False\n",
    "sort_way[sort_order.index('Credits')] = False\n",
    "print(sort_way)\n",
    "\n",
    "df_sorted = df_nodup.sort_values(by=sort_order, ascending=sort_way, ignore_index=True)\n",
    "df_sorted\n",
    "\n",
    "#df_sorted[df_sorted['Semester'] == 'Second Semester']"
   ]
  },
  {
   "cell_type": "code",
   "execution_count": null,
   "metadata": {},
   "outputs": [],
   "source": [
    "dftest = df_sorted.groupby(['Master', 'Track'], sort=False, group_keys=False)\n",
    "dftest.first()"
   ]
  },
  {
   "cell_type": "code",
   "execution_count": null,
   "metadata": {},
   "outputs": [],
   "source": [
    "print(list(dftest.groups.keys()))\n",
    "\n",
    "dftest.get_group(list(dftest.groups.keys())[2]).drop(columns=['Master', 'Track'])"
   ]
  },
  {
   "cell_type": "code",
   "execution_count": null,
   "metadata": {},
   "outputs": [],
   "source": [
    "dfGrouped = df_sorted.groupby(['Master', 'Track'], sort=False)\n",
    "\n",
    "rowGroups = list(dftest.groups.keys())\n",
    "#print(rowGroups)\n",
    "\n",
    "dumpData = df_sorted.head(0).drop(columns=['Master', 'Track']).to_csv(sep='\\t', index=False, header=True)\n",
    "\n",
    "for i in range(len(rowGroups)):\n",
    "    group = rowGroups[i]\n",
    "    masterName = group[0]\n",
    "    trackName = group[1]\n",
    "    if masterName != rowGroups[i-1][0]:\n",
    "        print(masterName)\n",
    "        dumpData += masterName + '\\t'*(df_sorted.shape[1]-2-1) + '\\r\\n'\n",
    "    print(f'\\t{trackName}')\n",
    "    dumpData += '\\t' + trackName + '\\t'*(df_sorted.shape[1]-1-2-1) + '\\r\\n'\n",
    "\n",
    "    truncatedDataFrame = dfGrouped.get_group(group).drop(columns=['Master', 'Track'])\n",
    "    dumpData += truncatedDataFrame.to_csv(sep='\\t', index=False, header=False)"
   ]
  },
  {
   "cell_type": "code",
   "execution_count": null,
   "metadata": {},
   "outputs": [],
   "source": [
    "with open(Path('sandbox')/'output.tsv', 'w', newline='') as outputFile:\n",
    "    outputFile.write(dumpData)"
   ]
  }
 ],
 "metadata": {
  "kernelspec": {
   "display_name": "scrapper",
   "language": "python",
   "name": "python3"
  },
  "language_info": {
   "codemirror_mode": {
    "name": "ipython",
    "version": 3
   },
   "file_extension": ".py",
   "mimetype": "text/x-python",
   "name": "python",
   "nbconvert_exporter": "python",
   "pygments_lexer": "ipython3",
   "version": "3.9.13"
  },
  "orig_nbformat": 4,
  "vscode": {
   "interpreter": {
    "hash": "8054ff4092c3b0e252dbb41b2f73bf3f9bc1261e2cff133416b3218ccabbb30a"
   }
  }
 },
 "nbformat": 4,
 "nbformat_minor": 2
}
